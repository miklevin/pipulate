{
 "cells": [
  {
   "cell_type": "code",
   "execution_count": null,
   "id": "0",
   "metadata": {},
   "outputs": [],
   "source": [
    "# In a Jupyter cell\n",
    "\n",
    "import asyncio\n",
    "from pipulate import pip\n",
    "import nest_asyncio\n",
    "\n",
    "# Apply the patch to allow nested event loops\n",
    "nest_asyncio.apply()\n",
    "\n",
    "async def main():\n",
    "    \"\"\"The main async function to run the scrape test.\"\"\"\n",
    "    print(\"🧪 Scraping a sample page to get a DOM file...\")\n",
    "    # Scrape a simple but non-trivial page\n",
    "    result = await pip.scrape(url=\"https://example.com\", headless=True)\n",
    "    if result.get(\"success\"):\n",
    "        # --- FIX: Look for \"rendered_dom\" instead of \"dom\" ---\n",
    "        dom_path = result.get(\"looking_at_files\", {}).get(\"rendered_dom\")\n",
    "        if dom_path:\n",
    "            print(f\"✅ Success! DOM file saved to: {dom_path}\")\n",
    "            print(\"\\nNow you can run the visualizer scripts against this file.\")\n",
    "        else:\n",
    "            print(\"❌ Scrape succeeded, but DOM path not found in result.\")\n",
    "    else:\n",
    "        print(f\"❌ Scrape failed: {result.get('error')}\")\n",
    "\n",
    "# In a notebook, you can use 'await' directly at the top level of a cell\n",
    "await main()"
   ]
  },
  {
   "cell_type": "code",
   "execution_count": null,
   "id": "1",
   "metadata": {},
   "outputs": [],
   "source": []
  }
 ],
 "metadata": {
  "kernelspec": {
   "display_name": "Python 3 (ipykernel)",
   "language": "python",
   "name": "python3"
  },
  "language_info": {
   "codemirror_mode": {
    "name": "ipython",
    "version": 3
   },
   "file_extension": ".py",
   "mimetype": "text/x-python",
   "name": "python",
   "nbconvert_exporter": "python",
   "pygments_lexer": "ipython3",
   "version": "3.12.11"
  }
 },
 "nbformat": 4,
 "nbformat_minor": 5
}
