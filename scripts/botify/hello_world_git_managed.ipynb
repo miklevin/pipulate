{
 "cells": [
  {
   "cell_type": "markdown",
   "id": "0",
   "metadata": {},
   "source": [
    "# Uniting State with Pipulate in JupyterLab\n",
    "\n",
    "Resume any Notebook job mid-completion even after a kernel restart. "
   ]
  },
  {
   "cell_type": "code",
   "execution_count": null,
   "id": "1",
   "metadata": {},
   "outputs": [],
   "source": [
    "# Cell 1: Setup\n",
    "from pipulate import pip\n",
    "job = \"hello_pipulate\""
   ]
  },
  {
   "cell_type": "code",
   "execution_count": null,
   "id": "2",
   "metadata": {},
   "outputs": [],
   "source": [
    "# Cell 2: First Write\n",
    "first_name = \"Mike\"\n",
    "pip.set(job, step=\"first_name\", value=first_name)\n",
    "print(f\"✅ Wrote first name: {pip.get(job, 'first_name')}\")"
   ]
  },
  {
   "cell_type": "markdown",
   "id": "3",
   "metadata": {},
   "source": [
    "### ⚙️ Now, Restart the Kernel!\n",
    "**Press `Esc` then `0` `0` (zero-zero), or use the menu, to restart the kernel and test persistence.**"
   ]
  },
  {
   "cell_type": "code",
   "execution_count": null,
   "id": "4",
   "metadata": {},
   "outputs": [],
   "source": [
    "# Cell 3: Read After Restart & Second Write\n",
    "# Re-import after restarting the kernel\n",
    "from pipulate import pip\n",
    "job = \"hello_pipulate\"\n",
    "\n",
    "# 1. Retrieve the value that survived the restart\n",
    "retrieved_name = pip.get(job, step=\"first_name\")\n",
    "print(f\"✅ Retrieved after restart: {retrieved_name}, jiggity jig!\")\n",
    "\n",
    "# 2. Add the next piece of data to the job\n",
    "last_name = \"Levin\"\n",
    "pip.set(job, step=\"last_name\", value=last_name)\n",
    "print(f\"✅ Wrote last name: {pip.get(job, 'last_name')}\")"
   ]
  },
  {
   "cell_type": "code",
   "execution_count": null,
   "id": "5",
   "metadata": {},
   "outputs": [],
   "source": [
    "# Cell 4: Final Assembly & Inspection\n",
    "# Re-import in case you run this cell in a new session\n",
    "from pipulate import pip\n",
    "job = \"hello_pipulate\"\n",
    "\n",
    "# Assemble the final result from all persisted data\n",
    "full_name = f\"Hello, {pip.get(job, 'first_name')} {pip.get(job, 'last_name')}!\"\n",
    "print(full_name)\n",
    "\n",
    "# Inspect the final, complete state of your job\n",
    "print(\"\\nFinal job state:\")\n",
    "print(pip.read(job))\n"
   ]
  },
  {
   "cell_type": "code",
   "execution_count": null,
   "id": "6",
   "metadata": {},
   "outputs": [],
   "source": []
  }
 ],
 "metadata": {
  "kernelspec": {
   "display_name": "Python 3 (ipykernel)",
   "language": "python",
   "name": "python3"
  },
  "language_info": {
   "codemirror_mode": {
    "name": "ipython",
    "version": 3
   },
   "file_extension": ".py",
   "mimetype": "text/x-python",
   "name": "python",
   "nbconvert_exporter": "python",
   "pygments_lexer": "ipython3",
   "version": "3.12.11"
  }
 },
 "nbformat": 4,
 "nbformat_minor": 5
}
