{
 "cells": [
  {
   "cell_type": "code",
   "execution_count": null,
   "id": "0",
   "metadata": {},
   "outputs": [],
   "source": [
    "import pyfiglet\n",
    "\n",
    "def show_all_pyfiglet_fonts(text_to_render=\"Hello\"):\n",
    "    \"\"\"\n",
    "    Retrieves all available PyFiglet fonts and displays the given text\n",
    "    rendered in each font.\n",
    "\n",
    "    Args:\n",
    "        text_to_render (str): The text string to render with each font.\n",
    "                              Defaults to \"Hello\".\n",
    "    \"\"\"\n",
    "    print(\"Fetching all available PyFiglet fonts...\")\n",
    "\n",
    "    try:\n",
    "        # Get a list of all font names available in pyfiglet\n",
    "        font_list = pyfiglet.FigletFont.getFonts()\n",
    "        print(f\"Found {len(font_list)} fonts. Displaying examples...\\n\")\n",
    "\n",
    "        # Iterate through each font in the list\n",
    "        for font_name in font_list:\n",
    "            # Print a separator and the current font name for clarity\n",
    "            print(\"-\" * 50)\n",
    "            print(f\"Font: {font_name}\\n\")\n",
    "\n",
    "            try:\n",
    "                # Create a Figlet object with the current font\n",
    "                # The 'width' parameter is set to 80 to fit common terminal sizes\n",
    "                # and prevent excessive line wrapping in JupyterLab.\n",
    "                figlet_renderer = pyfiglet.Figlet(font=font_name, width=80)\n",
    "\n",
    "                # Render the specified text using the current font\n",
    "                rendered_text = figlet_renderer.renderText(text_to_render)\n",
    "\n",
    "                # Print the rendered ASCII art\n",
    "                print(rendered_text)\n",
    "\n",
    "            except Exception as e:\n",
    "                # Handle cases where a specific font might cause an error\n",
    "                print(f\"Error rendering with font '{font_name}': {e}\")\n",
    "            print(\"\\n\") # Add extra newline for better separation between fonts\n",
    "\n",
    "    except Exception as e:\n",
    "        print(f\"An error occurred while fetching fonts: {e}\")\n",
    "        print(\"Please ensure pyfiglet is installed: pip install pyfiglet\")\n",
    "\n",
    "# Call the function to display all fonts with the default text \"Hello\"\n",
    "# You can change \"Hello\" to any other string you wish to see rendered.\n",
    "show_all_pyfiglet_fonts(\"Hello\")\n"
   ]
  },
  {
   "cell_type": "code",
   "execution_count": null,
   "id": "1",
   "metadata": {},
   "outputs": [],
   "source": []
  }
 ],
 "metadata": {
  "kernelspec": {
   "display_name": "Python 3 (ipykernel)",
   "language": "python",
   "name": "python3"
  },
  "language_info": {
   "codemirror_mode": {
    "name": "ipython",
    "version": 3
   },
   "file_extension": ".py",
   "mimetype": "text/x-python",
   "name": "python",
   "nbconvert_exporter": "python",
   "pygments_lexer": "ipython3",
   "version": "3.12.11"
  }
 },
 "nbformat": 4,
 "nbformat_minor": 5
}
