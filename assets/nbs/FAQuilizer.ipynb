{
 "cells": [
  {
   "cell_type": "markdown",
   "id": "0",
   "metadata": {},
   "source": [
    "# Your AI-Powered List Processor\n",
    "\n",
    "- Fetch full HTML for a list of URLs and ***use AI to generate insights!***\n",
    "- Output to a formatted Excel spreadsheet ready to import into Google Sheets.\n",
    "- Each cell is a step in a resilient pipeline letting you restart and continue where you left off.\n",
    "\n",
    "### ⚙️ Restarting the Kernel\n",
    "**Press `Esc` then `0` `0` (zero-zero), or use the menu, to restart the kernel and test persistence.**\n",
    "\n",
    "## Cell 1: Setup\n",
    "This cell imports our libraries and gives our job a unique name."
   ]
  },
  {
   "cell_type": "code",
   "execution_count": null,
   "id": "1",
   "metadata": {},
   "outputs": [],
   "source": [
    "from pipulate import pip\n",
    "import secretsauce"
   ]
  },
  {
   "cell_type": "code",
   "execution_count": null,
   "id": "2",
   "metadata": {},
   "outputs": [],
   "source": [
    "job = \"faquilizer-04\" # Give your session a unique name"
   ]
  },
  {
   "cell_type": "markdown",
   "id": "3",
   "metadata": {},
   "source": [
    "## Cell 2: Authentication\n",
    "Securely provide your Google AI API key. It's stored only for this job."
   ]
  },
  {
   "cell_type": "code",
   "execution_count": null,
   "id": "4",
   "metadata": {},
   "outputs": [],
   "source": [
    "# Cell 2: Authentication\n",
    "secretsauce.setup_google_ai(job)"
   ]
  },
  {
   "cell_type": "markdown",
   "id": "5",
   "metadata": {},
   "source": [
    "## Cell 3: User Input\n",
    "Paste your list of URLs to process between the triple quotes."
   ]
  },
  {
   "cell_type": "code",
   "execution_count": null,
   "id": "6",
   "metadata": {},
   "outputs": [],
   "source": [
    "# Cell 3: User Input\n",
    "URL_LIST_STEP = \"url_list\"\n",
    "EASILY_PASTED_LIST = \"\"\"\n",
    "https://mikelev.in/\n",
    "\"\"\".split(\"\\n\")[1:-1]\n",
    "\n",
    "pip.set(job, URL_LIST_STEP, EASILY_PASTED_LIST)\n",
    "urls_to_process = pip.get(job, URL_LIST_STEP, [])\n",
    "print(f\"✅ Found {len(urls_to_process)} URLs to process.\")"
   ]
  },
  {
   "cell_type": "markdown",
   "id": "7",
   "metadata": {},
   "source": [
    "## Cell 4: Cache Website Responses\n",
    "This visits each URL and saves a copy locally to avoid re-crawling."
   ]
  },
  {
   "cell_type": "code",
   "execution_count": null,
   "id": "8",
   "metadata": {},
   "outputs": [],
   "source": [
    "# Cell 4: Cache Website Responses\n",
    "secretsauce.cache_url_responses(job)"
   ]
  },
  {
   "cell_type": "markdown",
   "id": "9",
   "metadata": {},
   "source": [
    "## Cell 5 Optional: Browser Automation\n",
    "Automate Selenium to do the crawl"
   ]
  },
  {
   "cell_type": "code",
   "execution_count": null,
   "id": "10",
   "metadata": {},
   "outputs": [],
   "source": [
    "# Cell 5 (Optional Test): Advanced Scrape\n",
    "# This cell tests the new browser-based scraper on the FIRST URL in your list.\n",
    "# It will generate a 'browser_automation/looking_at/' directory with rich artifacts.\n",
    "await secretsauce.test_advanced_scrape(job, headless=False)"
   ]
  },
  {
   "cell_type": "markdown",
   "id": "11",
   "metadata": {},
   "source": [
    "## Cell 6: Extract Key SEO Elements"
   ]
  },
  {
   "cell_type": "code",
   "execution_count": null,
   "id": "12",
   "metadata": {},
   "outputs": [],
   "source": [
    "# Cell 6: Extract Key SEO Elements\n",
    "secretsauce.extract_webpage_data(job)"
   ]
  },
  {
   "cell_type": "markdown",
   "id": "13",
   "metadata": {},
   "source": [
    "## Cell 7: Generate 5 AI Insights per URL\n",
    "- This uses AI to analyze each cached page and generate 5 structured insights.\n",
    "- (To customize the prompt, edit the `generate_multi_insights` function in `secretsauce.py`)"
   ]
  },
  {
   "cell_type": "code",
   "execution_count": null,
   "id": "14",
   "metadata": {},
   "outputs": [],
   "source": [
    "# Cell 7: Generate 5 FAQs per URL\n",
    "secretsauce.generate_faqs(job)"
   ]
  },
  {
   "cell_type": "markdown",
   "id": "15",
   "metadata": {},
   "source": [
    "## Cell 8: Display Final Results Log\n",
    "This displays the raw data log, showing 5 rows for each URL processed."
   ]
  },
  {
   "cell_type": "code",
   "execution_count": null,
   "id": "16",
   "metadata": {},
   "outputs": [],
   "source": [
    "# Cell 8: Display Final Results Log\n",
    "secretsauce.display_results_log(job)"
   ]
  },
  {
   "cell_type": "markdown",
   "id": "17",
   "metadata": {},
   "source": [
    "## Cell 9: Export to Excel\n",
    "This saves the final log to a formatted .xlsx file."
   ]
  },
  {
   "cell_type": "code",
   "execution_count": null,
   "id": "18",
   "metadata": {},
   "outputs": [],
   "source": [
    "# Cell 9: Export to Excel\n",
    "secretsauce.export_to_excel(job)"
   ]
  },
  {
   "cell_type": "markdown",
   "id": "19",
   "metadata": {},
   "source": [
    "# This is the Prompt|"
   ]
  },
  {
   "cell_type": "raw",
   "id": "20",
   "metadata": {},
   "source": [
    "**Your Role (AI Content Strategist):**\n",
    "You are an AI Content Strategist. \n",
    "Your task is to analyze this page and produce 5 frequently asked questions (FAQ) on the topic.\n",
    "Here is all the extra super duper special prompt instructions that makes this proprietary.\n",
    "You can trade such prompts around in emails and slack internally in your company.\n",
    "Pastethem here and you're good to go!"
   ]
  },
  {
   "cell_type": "markdown",
   "id": "21",
   "metadata": {},
   "source": [
    "## This is the List"
   ]
  },
  {
   "cell_type": "raw",
   "id": "22",
   "metadata": {},
   "source": [
    "List your URLs, 1 per line\n",
    "https://nixos.org/\n",
    "https://pypi.org/\n",
    "https://neovim.io/\n",
    "https://github.com/\n",
    "https://mikelev.in/"
   ]
  },
  {
   "cell_type": "markdown",
   "id": "23",
   "metadata": {},
   "source": [
    "### Run All the Cells"
   ]
  },
  {
   "cell_type": "code",
   "execution_count": null,
   "id": "24",
   "metadata": {},
   "outputs": [],
   "source": [
    "pip.faquilizer()"
   ]
  },
  {
   "cell_type": "markdown",
   "id": "25",
   "metadata": {},
   "source": [
    "#### You Get the Gist"
   ]
  },
  {
   "cell_type": "code",
   "execution_count": null,
   "id": "26",
   "metadata": {},
   "outputs": [],
   "source": []
  }
 ],
 "metadata": {
  "kernelspec": {
   "display_name": "Python 3 (ipykernel)",
   "language": "python",
   "name": "python3"
  },
  "language_info": {
   "codemirror_mode": {
    "name": "ipython",
    "version": 3
   },
   "file_extension": ".py",
   "mimetype": "text/x-python",
   "name": "python",
   "nbconvert_exporter": "python",
   "pygments_lexer": "ipython3",
   "version": "3.12.11"
  }
 },
 "nbformat": 4,
 "nbformat_minor": 5
}
