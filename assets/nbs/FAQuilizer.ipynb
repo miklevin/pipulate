{
 "cells": [
  {
   "cell_type": "markdown",
   "id": "0",
   "metadata": {},
   "source": [
    "# Your AI-Powered List Processor\n",
    "\n",
    "- Fetch full HTML for a list of URLs and ***use AI to generate insights!***\n",
    "- Output to a formatted Excel spreadsheet ready to import into Google Sheets.\n",
    "- Each cell is a step in a resilient pipeline letting you restart and continue where you left off.\n",
    "\n",
    "### ⚙️ Restarting the Kernel\n",
    "**Press `Esc` then `0` `0` (zero-zero), or use the menu, to restart the kernel and test persistence.**\n",
    "\n",
    "## Cell 1: Setup\n",
    "This cell imports our libraries and gives our job a unique name."
   ]
  },
  {
   "cell_type": "code",
   "execution_count": null,
   "id": "1",
   "metadata": {},
   "outputs": [],
   "source": [
    "# Cell 1: Setup\n",
    "from pipulate import pip\n",
    "import secretsauce\n",
    "\n",
    "job = \"faquilizer-04\" # Give your session a unique name"
   ]
  },
  {
   "cell_type": "markdown",
   "id": "2",
   "metadata": {},
   "source": [
    "## Cell 2: Authentication\n",
    "Securely provide your Google AI API key. It's stored only for this job."
   ]
  },
  {
   "cell_type": "code",
   "execution_count": null,
   "id": "3",
   "metadata": {},
   "outputs": [],
   "source": [
    "# Cell 2: Authentication\n",
    "secretsauce.setup_google_ai(job)"
   ]
  },
  {
   "cell_type": "markdown",
   "id": "4",
   "metadata": {},
   "source": [
    "## Cell 3: User Input\n",
    "Paste your list of URLs to process between the triple quotes."
   ]
  },
  {
   "cell_type": "code",
   "execution_count": null,
   "id": "5",
   "metadata": {},
   "outputs": [],
   "source": [
    "# Cell 3: User Input\n",
    "URL_LIST_STEP = \"url_list\"\n",
    "EASILY_PASTED_LIST = \"\"\"\n",
    "https://mikelev.in/\n",
    "\"\"\".split(\"\\n\")[1:-1]\n",
    "\n",
    "pip.set(job, URL_LIST_STEP, EASILY_PASTED_LIST)\n",
    "urls_to_process = pip.get(job, URL_LIST_STEP, [])\n",
    "print(f\"✅ Found {len(urls_to_process)} URLs to process.\")"
   ]
  },
  {
   "cell_type": "markdown",
   "id": "6",
   "metadata": {},
   "source": [
    "## Cell 4: Cache Website Responses\n",
    "This visits each URL and saves a copy locally to avoid re-crawling."
   ]
  },
  {
   "cell_type": "code",
   "execution_count": null,
   "id": "7",
   "metadata": {},
   "outputs": [],
   "source": [
    "# Cell 4: Cache Website Responses\n",
    "secretsauce.cache_url_responses(job)"
   ]
  },
  {
   "cell_type": "markdown",
   "id": "8",
   "metadata": {},
   "source": [
    "## Cell 5 Optional: Browser Automation\n",
    "Automate Selenium to do the crawl"
   ]
  },
  {
   "cell_type": "code",
   "execution_count": null,
   "id": "9",
   "metadata": {},
   "outputs": [],
   "source": [
    "# Cell 5 (Optional Test): Advanced Scrape\n",
    "# This cell tests the new browser-based scraper on the FIRST URL in your list.\n",
    "# It will generate a 'browser_automation/looking_at/' directory with rich artifacts.\n",
    "await secretsauce.test_advanced_scrape(job, headless=False)"
   ]
  },
  {
   "cell_type": "markdown",
   "id": "10",
   "metadata": {},
   "source": [
    "## Cell 6: Extract Key SEO Elements"
   ]
  },
  {
   "cell_type": "code",
   "execution_count": null,
   "id": "11",
   "metadata": {},
   "outputs": [],
   "source": [
    "# Cell 6: Extract Key SEO Elements\n",
    "secretsauce.extract_webpage_data(job)"
   ]
  },
  {
   "cell_type": "markdown",
   "id": "12",
   "metadata": {},
   "source": [
    "## Cell 7: Generate 5 AI Insights per URL\n",
    "- This uses AI to analyze each cached page and generate 5 structured insights.\n",
    "- (To customize the prompt, edit the `generate_multi_insights` function in `secretsauce.py`)"
   ]
  },
  {
   "cell_type": "code",
   "execution_count": null,
   "id": "13",
   "metadata": {},
   "outputs": [],
   "source": [
    "# Cell 7: Generate 5 FAQs per URL\n",
    "secretsauce.generate_faqs(job)"
   ]
  },
  {
   "cell_type": "markdown",
   "id": "14",
   "metadata": {},
   "source": [
    "## Cell 8: Display Final Results Log\n",
    "This displays the raw data log, showing 5 rows for each URL processed."
   ]
  },
  {
   "cell_type": "code",
   "execution_count": null,
   "id": "15",
   "metadata": {},
   "outputs": [],
   "source": [
    "# Cell 8: Display Final Results Log\n",
    "secretsauce.display_results_log(job)"
   ]
  },
  {
   "cell_type": "markdown",
   "id": "16",
   "metadata": {},
   "source": [
    "## Cell 9: Export to Excel\n",
    "This saves the final log to a formatted .xlsx file."
   ]
  },
  {
   "cell_type": "code",
   "execution_count": null,
   "id": "17",
   "metadata": {},
   "outputs": [],
   "source": [
    "# Cell 9: Export to Excel\n",
    "secretsauce.export_to_excel(job)"
   ]
  },
  {
   "cell_type": "code",
   "execution_count": null,
   "id": "18",
   "metadata": {},
   "outputs": [],
   "source": []
  },
  {
   "cell_type": "code",
   "execution_count": null,
   "id": "19",
   "metadata": {},
   "outputs": [],
   "source": []
  }
 ],
 "metadata": {
  "kernelspec": {
   "display_name": "Python 3 (ipykernel)",
   "language": "python",
   "name": "python3"
  },
  "language_info": {
   "codemirror_mode": {
    "name": "ipython",
    "version": 3
   },
   "file_extension": ".py",
   "mimetype": "text/x-python",
   "name": "python",
   "nbconvert_exporter": "python",
   "pygments_lexer": "ipython3",
   "version": "3.12.11"
  }
 },
 "nbformat": 4,
 "nbformat_minor": 5
}
