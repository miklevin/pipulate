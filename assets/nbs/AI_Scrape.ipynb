{
 "cells": [
  {
   "cell_type": "markdown",
   "id": "0",
   "metadata": {},
   "source": [
    "# Your AI-Powered List Processor\n",
    "\n",
    "- Fetch titles for a list of URLs and ***use AI to generate insights!***\n",
    "- Output to a formatted Excel spreadsheet ready to import into Google Sheets.\n",
    "- Each cell is a step in a resilient pipeline letting you restart and continue where you left off.\n",
    "\n",
    "### ⚙️ Restarting the Kernel\n",
    "**Press `Esc` then `0` `0` (zero-zero), or use the menu, to restart the kernel and test persistence.**\n",
    "\n",
    "## Cell 1: Setup\n",
    "This cell imports our libraries and gives our job a unique name."
   ]
  },
  {
   "cell_type": "code",
   "execution_count": null,
   "id": "1",
   "metadata": {},
   "outputs": [],
   "source": [
    "# Cell 1: Setup\n",
    "from pipulate import pip\n",
    "import secretsauce\n",
    "\n",
    "job = \"workflow-01\" # Give your session a name"
   ]
  },
  {
   "cell_type": "markdown",
   "id": "2",
   "metadata": {},
   "source": [
    "## Cell 2: Authentication\n",
    "Securely provide your Google AI API key. It's stored only for this job."
   ]
  },
  {
   "cell_type": "code",
   "execution_count": null,
   "id": "3",
   "metadata": {},
   "outputs": [],
   "source": [
    "# Cell 2: Authentication\n",
    "secretsauce.setup_google_ai(job)"
   ]
  },
  {
   "cell_type": "markdown",
   "id": "4",
   "metadata": {},
   "source": [
    "## Cell 3: User Input\n",
    "Paste your list of URLs to process between the triple quotes."
   ]
  },
  {
   "cell_type": "code",
   "execution_count": null,
   "id": "5",
   "metadata": {},
   "outputs": [],
   "source": [
    "# Cell 3: User Input\n",
    "URL_LIST_STEP = \"url_list\"\n",
    "EASILY_PASTED_LIST = \"\"\"\n",
    "https://www.google.com\n",
    "https://www.github.com\n",
    "https://www.mikelev.in\n",
    "https://www.python.org\n",
    "\"\"\".split(\"\\n\")[1:-1]\n",
    "\n",
    "pip.set(job, URL_LIST_STEP, EASILY_PASTED_LIST)\n",
    "urls_to_process = pip.get(job, URL_LIST_STEP, [])\n",
    "print(f\"✅ Found {len(urls_to_process)} URLs to process.\")"
   ]
  },
  {
   "cell_type": "markdown",
   "id": "6",
   "metadata": {},
   "source": [
    "## Cell 4: Fetch Website Titles\n",
    "This fetches the <title> tag from each URL in your list."
   ]
  },
  {
   "cell_type": "code",
   "execution_count": null,
   "id": "7",
   "metadata": {},
   "outputs": [],
   "source": [
    "# Cell 4: Fetch Website Titles\n",
    "secretsauce.fetch_titles(job)"
   ]
  },
  {
   "cell_type": "markdown",
   "id": "8",
   "metadata": {},
   "source": [
    "## Cell 5: Generate AI Insights\n",
    "- This uses AI to analyze each title and determine the page's topic.\n",
    "- (To customize the prompt, edit the `get_ai_insights` function in `secretsauce.py`)"
   ]
  },
  {
   "cell_type": "code",
   "execution_count": null,
   "id": "9",
   "metadata": {},
   "outputs": [],
   "source": [
    "# Cell 5: Generate AI Insights\n",
    "secretsauce.get_ai_insights(job)"
   ]
  },
  {
   "cell_type": "markdown",
   "id": "10",
   "metadata": {},
   "source": [
    "## Cell 6: Display Final Results\n",
    "This merges all the data and displays it in a clean, styled table."
   ]
  },
  {
   "cell_type": "code",
   "execution_count": null,
   "id": "11",
   "metadata": {},
   "outputs": [],
   "source": [
    "# Cell 6: Display Final Results\n",
    "secretsauce.display_results(job)"
   ]
  },
  {
   "cell_type": "markdown",
   "id": "12",
   "metadata": {},
   "source": [
    "## Cell 7: Export to Excel\n",
    "This saves the final results table to a formatted .xlsx file."
   ]
  },
  {
   "cell_type": "code",
   "execution_count": null,
   "id": "13",
   "metadata": {},
   "outputs": [],
   "source": [
    "# Cell 7: Export to Excel\n",
    "secretsauce.export_to_excel(job)"
   ]
  },
  {
   "cell_type": "code",
   "execution_count": null,
   "id": "14",
   "metadata": {},
   "outputs": [],
   "source": []
  }
 ],
 "metadata": {
  "kernelspec": {
   "display_name": "Python 3 (ipykernel)",
   "language": "python",
   "name": "python3"
  },
  "language_info": {
   "codemirror_mode": {
    "name": "ipython",
    "version": 3
   },
   "file_extension": ".py",
   "mimetype": "text/x-python",
   "name": "python",
   "nbconvert_exporter": "python",
   "pygments_lexer": "ipython3",
   "version": "3.12.11"
  }
 },
 "nbformat": 4,
 "nbformat_minor": 5
}
