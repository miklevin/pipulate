{
 "cells": [
  {
   "cell_type": "markdown",
   "id": "0",
   "metadata": {
    "editable": true,
    "slideshow": {
     "slide_type": ""
    },
    "tags": []
   },
   "source": [
    "# URLinspector 🔬\n",
    "\n",
    "Scalpel-like Stealthy Scrape originating from your Desktop"
   ]
  },
  {
   "cell_type": "code",
   "execution_count": null,
   "id": "1",
   "metadata": {
    "editable": true,
    "slideshow": {
     "slide_type": ""
    },
    "tags": []
   },
   "outputs": [],
   "source": [
    "# Allows adjusting secret sauce recipe adjustments\n",
    "%load_ext autoreload\n",
    "%autoreload 2"
   ]
  },
  {
   "cell_type": "code",
   "execution_count": null,
   "id": "2",
   "metadata": {
    "editable": true,
    "slideshow": {
     "slide_type": ""
    },
    "tags": []
   },
   "outputs": [],
   "source": [
    "# Imports the secret sauce\n",
    "from pipulate import pip\n",
    "from imports import url_inspect_sauce as secretsauce\n",
    "import nest_asyncio\n",
    "nest_asyncio.apply()\n",
    "\n",
    "job = \"urlinspector-01\" # Give your session a unique name"
   ]
  },
  {
   "cell_type": "markdown",
   "id": "3",
   "metadata": {
    "editable": true,
    "slideshow": {
     "slide_type": ""
    },
    "tags": []
   },
   "source": [
    "# This is the Prompt"
   ]
  },
  {
   "cell_type": "raw",
   "id": "4",
   "metadata": {
    "editable": true,
    "raw_mimetype": "",
    "slideshow": {
     "slide_type": ""
    },
    "tags": [
     "prompt-input"
    ]
   },
   "source": [
    "**Your Role (SEO URL Auditor):**\n",
    "\n",
    "Based on the input data for a single webpage (URL, title, h1s, h2s, status code, and markdown body), provide the following:\n",
    "\n",
    "1.  **ai_selected_keyword**: The single best keyword phrase (2-5 words) the page appears to be targeting. Prioritize the \\`title\\` and \\`h1_tags\\` for this selection.\n",
    "2.  **ai_score**: On a scale of 1-5 (5 is best), how well-aligned the page's content (\\`title\\`, \\`h1s\\`, \\`h2s\\`, \\`markdown\\`) is to this single keyword. A 5 means the keyword is used effectively and naturally in key places. A 1 means it's barely present.\n",
    "3.  **keyword_rationale**: A brief (1-sentence) rationale for the score, including the user's most likely search intent (Informational, Commercial, Navigational, or Transactional)."
   ]
  },
  {
   "cell_type": "markdown",
   "id": "5",
   "metadata": {
    "editable": true,
    "slideshow": {
     "slide_type": ""
    },
    "tags": []
   },
   "source": [
    "# This is the List"
   ]
  },
  {
   "cell_type": "raw",
   "id": "6",
   "metadata": {
    "editable": true,
    "raw_mimetype": "",
    "slideshow": {
     "slide_type": ""
    },
    "tags": [
     "url-list-input"
    ]
   },
   "source": [
    "# Enter one URL per line\n",
    "https://nixos.org/     # Linux\n",
    "https://jupyter.org/   # Python\n",
    "https://neovim.io/     # vim\n",
    "https://git-scm.com/   # git\n",
    "https://www.fastht.ml/ # FastHTML\n",
    "https://pipulate.com/  # AIE (Pronounced \"Ayyy\")"
   ]
  },
  {
   "cell_type": "markdown",
   "id": "7",
   "metadata": {
    "editable": true,
    "slideshow": {
     "slide_type": ""
    },
    "tags": []
   },
   "source": [
    "# Run All the Cells"
   ]
  },
  {
   "cell_type": "code",
   "execution_count": null,
   "id": "8",
   "metadata": {
    "editable": true,
    "slideshow": {
     "slide_type": ""
    },
    "tags": []
   },
   "outputs": [],
   "source": [
    "# This cell uses a persistent profile, which is great for sites that require logins.\n",
    "await secretsauce.scrape(job,\n",
    "    headless=False,\n",
    "    delay_range=(7, 15) # Example: wait 7 to 15 seconds between requests\n",
    ")"
   ]
  },
  {
   "cell_type": "code",
   "execution_count": null,
   "id": "9",
   "metadata": {},
   "outputs": [],
   "source": [
    "# This cell generates the DOM tree and box visualizations...\n",
    "await secretsauce.generate_extractions_post_scrape(job, verbose=True)"
   ]
  },
  {
   "cell_type": "code",
   "execution_count": null,
   "id": "10",
   "metadata": {},
   "outputs": [],
   "source": [
    "# Fetch redirect chains and final headers\n",
    "await secretsauce.fetch_http_info(job, delay_range=(2, 5))"
   ]
  },
  {
   "cell_type": "markdown",
   "id": "11",
   "metadata": {
    "editable": true,
    "slideshow": {
     "slide_type": ""
    },
    "tags": []
   },
   "source": [
    "# You Get the Gist?"
   ]
  },
  {
   "cell_type": "code",
   "execution_count": null,
   "id": "12",
   "metadata": {},
   "outputs": [],
   "source": [
    "# ## Stack 'Em! 🥞 Load SEO Data\n",
    "\n",
    "# Stack 'em: Load scraped SEO data from seo.md files into a DataFrame\n",
    "seo_df = secretsauce.stack_seo_data(job)\n",
    "display(seo_df)"
   ]
  },
  {
   "cell_type": "code",
   "execution_count": null,
   "id": "13",
   "metadata": {},
   "outputs": [],
   "source": [
    "# This will check for a stored key, or prompt you if one isn't found.\n",
    "if not pip.api_key(job, key=None):\n",
    "    # If api_key returns False (invalid key or user cancelled), stop the notebook\n",
    "    raise Exception(\"API Key setup failed or was cancelled. Please provide a valid key and re-run.\")\n",
    "\n",
    "# If we get here, the key is valid and configured.\n",
    "print(\"\\n✅ API Key validated. Proceeding with AI audit...\")"
   ]
  },
  {
   "cell_type": "code",
   "execution_count": null,
   "id": "14",
   "metadata": {},
   "outputs": [],
   "source": [
    "audited_df = await secretsauce.ai_audit_em(job, seo_df, debug=False, limit=None)\n",
    "display(audited_df)"
   ]
  },
  {
   "cell_type": "code",
   "execution_count": null,
   "id": "15",
   "metadata": {},
   "outputs": [],
   "source": [
    "excel_file_path = secretsauce.export_audits_to_excel(job, audited_df)\n",
    "if excel_file_path:\n",
    "    print(f\"\\n🎉 Success! Deliverable saved to: {excel_file_path}\")\n",
    "else:\n",
    "    print(\"\\n❌ Error during export.\")"
   ]
  },
  {
   "cell_type": "code",
   "execution_count": null,
   "id": "16",
   "metadata": {},
   "outputs": [],
   "source": []
  }
 ],
 "metadata": {
  "kernelspec": {
   "display_name": "Python 3 (ipykernel)",
   "language": "python",
   "name": "python3"
  },
  "language_info": {
   "codemirror_mode": {
    "name": "ipython",
    "version": 3
   },
   "file_extension": ".py",
   "mimetype": "text/x-python",
   "name": "python",
   "nbconvert_exporter": "python",
   "pygments_lexer": "ipython3",
   "version": "3.12.11"
  }
 },
 "nbformat": 4,
 "nbformat_minor": 5
}
