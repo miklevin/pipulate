{
 "cells": [
  {
   "cell_type": "markdown",
   "id": "0",
   "metadata": {
    "editable": true,
    "slideshow": {
     "slide_type": ""
    },
    "tags": []
   },
   "source": [
    "# URLinspector 🔬\n",
    "\n",
    "Automate AI to write 5 **F**requetnly **A**sked **Q**uestions for each in a list of URLs."
   ]
  },
  {
   "cell_type": "code",
   "execution_count": null,
   "id": "1",
   "metadata": {
    "editable": true,
    "slideshow": {
     "slide_type": ""
    },
    "tags": []
   },
   "outputs": [],
   "source": [
    "# Allows library editing\n",
    "%load_ext autoreload\n",
    "%autoreload 2"
   ]
  },
  {
   "cell_type": "code",
   "execution_count": null,
   "id": "2",
   "metadata": {
    "editable": true,
    "slideshow": {
     "slide_type": ""
    },
    "tags": []
   },
   "outputs": [],
   "source": [
    "# Imports libraries\n",
    "from pipulate import pip\n",
    "from imports import url_inspect_sauce as secretsauce\n",
    "import nest_asyncio\n",
    "nest_asyncio.apply()\n",
    "\n",
    "job = \"urlinspector-01\" # Give your session a unique name"
   ]
  },
  {
   "cell_type": "markdown",
   "id": "3",
   "metadata": {
    "editable": true,
    "slideshow": {
     "slide_type": ""
    },
    "tags": []
   },
   "source": [
    "# This is the Prompt"
   ]
  },
  {
   "cell_type": "raw",
   "id": "4",
   "metadata": {
    "editable": true,
    "raw_mimetype": "",
    "slideshow": {
     "slide_type": ""
    },
    "tags": [
     "prompt-input"
    ]
   },
   "source": [
    "**Your Role (AI Content Strategist):**\n",
    "\n",
    "You are an AI Content Strategist. \n",
    "Make 5 Frequently Asked Questions for each page.\n",
    "For each question, produce the following so it fits the data structure:\n",
    "\n",
    "1. priority: integer (1-5, 1 is highest)\n",
    "2. question: string (The generated question)\n",
    "3. target_intent: string (What is the user's goal in asking this?)\n",
    "4. justification: string (Why is this a valuable question to answer? e.g., sales, seasonal, etc.)"
   ]
  },
  {
   "cell_type": "markdown",
   "id": "5",
   "metadata": {
    "editable": true,
    "slideshow": {
     "slide_type": ""
    },
    "tags": []
   },
   "source": [
    "# This is the List"
   ]
  },
  {
   "cell_type": "raw",
   "id": "6",
   "metadata": {
    "editable": true,
    "raw_mimetype": "",
    "slideshow": {
     "slide_type": ""
    },
    "tags": [
     "url-list-input"
    ]
   },
   "source": [
    "# Enter one URL per line\n",
    "https://nixos.org/     # Linux\n",
    "https://jupyter.org/   # Python\n",
    "https://neovim.io/     # vim\n",
    "https://git-scm.com/   # git\n",
    "https://www.fastht.ml/ # FastHTML\n",
    "https://pipulate.com/  # AIE (Pronounced \"Ayyy\")"
   ]
  },
  {
   "cell_type": "markdown",
   "id": "7",
   "metadata": {
    "editable": true,
    "slideshow": {
     "slide_type": ""
    },
    "tags": []
   },
   "source": [
    "# Run All the Cells"
   ]
  },
  {
   "cell_type": "code",
   "execution_count": null,
   "id": "8",
   "metadata": {
    "editable": true,
    "slideshow": {
     "slide_type": ""
    },
    "tags": []
   },
   "outputs": [],
   "source": [
    "# This cell uses a persistent profile, which is great for sites that require logins.\n",
    "await secretsauce.scrape(job,\n",
    "    headless=False,\n",
    "    delay_range=(7, 15) # Example: wait 7 to 15 seconds between requests\n",
    ")\n",
    "# This cell generates the DOM tree and box visualizations...\n",
    "# await secretsauce.generate_extraxtions_post_scrape(job, verbose=False)"
   ]
  },
  {
   "cell_type": "markdown",
   "id": "9",
   "metadata": {
    "editable": true,
    "slideshow": {
     "slide_type": ""
    },
    "tags": []
   },
   "source": [
    "# You Get the Gist?"
   ]
  },
  {
   "cell_type": "code",
   "execution_count": null,
   "id": "10",
   "metadata": {},
   "outputs": [],
   "source": []
  }
 ],
 "metadata": {
  "kernelspec": {
   "display_name": "Python 3 (ipykernel)",
   "language": "python",
   "name": "python3"
  },
  "language_info": {
   "codemirror_mode": {
    "name": "ipython",
    "version": 3
   },
   "file_extension": ".py",
   "mimetype": "text/x-python",
   "name": "python",
   "nbconvert_exporter": "python",
   "pygments_lexer": "ipython3",
   "version": "3.12.11"
  }
 },
 "nbformat": 4,
 "nbformat_minor": 5
}
