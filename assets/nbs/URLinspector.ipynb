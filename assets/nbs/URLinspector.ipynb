{
 "cells": [
  {
   "cell_type": "markdown",
   "id": "0",
   "metadata": {
    "editable": true,
    "slideshow": {
     "slide_type": ""
    },
    "tags": []
   },
   "source": [
    "# URLinspector 🔬\n",
    "\n",
    "Scalpel-like Stealthy Scrape originating from your Desktop"
   ]
  },
  {
   "cell_type": "code",
   "execution_count": null,
   "id": "1",
   "metadata": {
    "editable": true,
    "slideshow": {
     "slide_type": ""
    },
    "tags": []
   },
   "outputs": [],
   "source": [
    "# Allows adjusting secret sauce recipe adjustments\n",
    "%load_ext autoreload\n",
    "%autoreload 2"
   ]
  },
  {
   "cell_type": "code",
   "execution_count": null,
   "id": "2",
   "metadata": {
    "editable": true,
    "slideshow": {
     "slide_type": ""
    },
    "tags": []
   },
   "outputs": [],
   "source": [
    "# Imports the secret sauce\n",
    "from pipulate import pip\n",
    "from imports import url_inspect_sauce as secretsauce\n",
    "import nest_asyncio\n",
    "nest_asyncio.apply()\n",
    "\n",
    "job = \"urlinspector-01\" # Give your session a unique name"
   ]
  },
  {
   "cell_type": "markdown",
   "id": "3",
   "metadata": {
    "editable": true,
    "slideshow": {
     "slide_type": ""
    },
    "tags": []
   },
   "source": [
    "# This is the Prompt"
   ]
  },
  {
   "cell_type": "raw",
   "id": "4",
   "metadata": {
    "editable": true,
    "raw_mimetype": "",
    "slideshow": {
     "slide_type": ""
    },
    "tags": [
     "prompt-input"
    ]
   },
   "source": [
    "**Your Role (SEO URL Consultant auditing individual URLs):**\n",
    "\n",
    "A \"keyword\" is the unique short combination of words that are most likely to be searched-on by a user who might be interested in this page.\n",
    "What is the five most likely keywords (short combination of words) that this page appears to be targeting?\n",
    "\n",
    "1. priority: integer (1-5, 1 is highest)\n",
    "2. question: string (The keyword)\n",
    "3. target_intent: string (What specifically is the user likely to have in mind when performing this search?)\n",
    "4. justification: string (Informational, Commercial, Navigational, Transactional?)"
   ]
  },
  {
   "cell_type": "markdown",
   "id": "5",
   "metadata": {
    "editable": true,
    "slideshow": {
     "slide_type": ""
    },
    "tags": []
   },
   "source": [
    "# This is the List"
   ]
  },
  {
   "cell_type": "raw",
   "id": "6",
   "metadata": {
    "editable": true,
    "raw_mimetype": "",
    "slideshow": {
     "slide_type": ""
    },
    "tags": [
     "url-list-input"
    ]
   },
   "source": [
    "# Enter one URL per line\n",
    "https://nixos.org/     # Linux\n",
    "https://jupyter.org/   # Python\n",
    "https://neovim.io/     # vim\n",
    "https://git-scm.com/   # git\n",
    "https://www.fastht.ml/ # FastHTML\n",
    "https://pipulate.com/  # AIE (Pronounced \"Ayyy\")"
   ]
  },
  {
   "cell_type": "markdown",
   "id": "7",
   "metadata": {
    "editable": true,
    "slideshow": {
     "slide_type": ""
    },
    "tags": []
   },
   "source": [
    "# Run All the Cells"
   ]
  },
  {
   "cell_type": "code",
   "execution_count": null,
   "id": "8",
   "metadata": {
    "editable": true,
    "slideshow": {
     "slide_type": ""
    },
    "tags": []
   },
   "outputs": [],
   "source": [
    "# This cell uses a persistent profile, which is great for sites that require logins.\n",
    "await secretsauce.scrape(job,\n",
    "    headless=False,\n",
    "    delay_range=(7, 15) # Example: wait 7 to 15 seconds between requests\n",
    ")"
   ]
  },
  {
   "cell_type": "code",
   "execution_count": null,
   "id": "9",
   "metadata": {},
   "outputs": [],
   "source": [
    "# This cell generates the DOM tree and box visualizations...\n",
    "await secretsauce.generate_extractions_post_scrape(job, verbose=True)"
   ]
  },
  {
   "cell_type": "code",
   "execution_count": null,
   "id": "10",
   "metadata": {},
   "outputs": [],
   "source": [
    "# Fetch redirect chains and final headers\n",
    "await secretsauce.fetch_http_info(job, delay_range=(2, 5))"
   ]
  },
  {
   "cell_type": "markdown",
   "id": "11",
   "metadata": {
    "editable": true,
    "slideshow": {
     "slide_type": ""
    },
    "tags": []
   },
   "source": [
    "# You Get the Gist?"
   ]
  },
  {
   "cell_type": "code",
   "execution_count": null,
   "id": "12",
   "metadata": {},
   "outputs": [],
   "source": [
    "# ## Stack 'Em! 🥞 Load SEO Data\n",
    "\n",
    "# Stack 'em: Load scraped SEO data from seo.md files into a DataFrame\n",
    "seo_df = secretsauce.stack_seo_data(job)\n",
    "display(seo_df)"
   ]
  },
  {
   "cell_type": "code",
   "execution_count": null,
   "id": "13",
   "metadata": {},
   "outputs": [],
   "source": []
  }
 ],
 "metadata": {
  "kernelspec": {
   "display_name": "Python 3 (ipykernel)",
   "language": "python",
   "name": "python3"
  },
  "language_info": {
   "codemirror_mode": {
    "name": "ipython",
    "version": 3
   },
   "file_extension": ".py",
   "mimetype": "text/x-python",
   "name": "python",
   "nbconvert_exporter": "python",
   "pygments_lexer": "ipython3",
   "version": "3.12.11"
  }
 },
 "nbformat": 4,
 "nbformat_minor": 5
}
