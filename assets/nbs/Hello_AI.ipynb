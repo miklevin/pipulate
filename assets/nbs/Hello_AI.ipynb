{
 "cells": [
  {
   "cell_type": "markdown",
   "id": "0",
   "metadata": {},
   "source": [
    "# The United States of Jupyter Notebooks\n",
    "\n",
    "Pipulate lets you resume any job in a Notebook mid-completion *even after a kernel restart.* It is modeled after Unix pipes.\n",
    "\n",
    "* **The Unix Pipe:** The `ls | grep | wc` command is a real-time data assembly line. The data flows from one command to the next instantly.\n",
    "* **The Notebook's \"Pipe\":** The `pipulate` library in your notebook creates a similar step-by-step process. In the notebook, you first set a `first_name`, then a `last_name`, and finally assemble the `full_name`. Each cell acts like a \"worker\" in the pipeline.\n",
    "* **The \"Persistence\" Difference:** Unlike a Unix pipe that vanishes when done, `pipulate` **saves the result of each step**. This is why you can restart the kernel (which is like stopping the assembly line) and still retrieve the `first_name` to continue the job where you left off.\n",
    "\n",
    "## Cell 1: Setup Job"
   ]
  },
  {
   "cell_type": "code",
   "execution_count": null,
   "id": "1",
   "metadata": {},
   "outputs": [],
   "source": [
    "from pipulate import pip\n",
    "job = \"hello_pipulate\""
   ]
  },
  {
   "cell_type": "markdown",
   "id": "2",
   "metadata": {},
   "source": [
    "## Cell 2: First Write"
   ]
  },
  {
   "cell_type": "code",
   "execution_count": null,
   "id": "3",
   "metadata": {},
   "outputs": [],
   "source": [
    "first_name = \"Mike\"\n",
    "pip.set(job, step=\"first_name\", value=first_name)\n",
    "print(f\"✅ Wrote first name: {pip.get(job, 'first_name')}\")"
   ]
  },
  {
   "cell_type": "markdown",
   "id": "4",
   "metadata": {},
   "source": [
    "### ⚙️ Now, Restart the Kernel!\n",
    "**Press `Esc` then `0` `0` (zero-zero), or use the menu, to restart the kernel and test persistence.**\n",
    "\n",
    "#### Cell 3: Read After Restart & Second Write"
   ]
  },
  {
   "cell_type": "code",
   "execution_count": null,
   "id": "5",
   "metadata": {},
   "outputs": [],
   "source": [
    "# Re-import after restarting the kernel\n",
    "from pipulate import pip\n",
    "job = \"hello_pipulate\"\n",
    "\n",
    "# 1. Retrieve the value that survived the restart\n",
    "retrieved_name = pip.get(job, step=\"first_name\")\n",
    "print(f\"✅ Retrieved after restart: {retrieved_name} agan, jiggity jig!\")\n",
    "\n",
    "# 2. Add the next piece of data to the job\n",
    "last_name = \"Levin\"\n",
    "pip.set(job, step=\"last_name\", value=last_name)\n",
    "print(f\"✅ Wrote last name: {pip.get(job, 'last_name')}\")"
   ]
  },
  {
   "cell_type": "markdown",
   "id": "6",
   "metadata": {},
   "source": [
    "## Cell 4: Final Assembly & Inspection"
   ]
  },
  {
   "cell_type": "code",
   "execution_count": null,
   "id": "7",
   "metadata": {},
   "outputs": [],
   "source": [
    "# Re-import in case you run this cell in a new session\n",
    "from pipulate import pip\n",
    "job = \"hello_pipulate\"\n",
    "\n",
    "# Assemble the final result from all persisted data\n",
    "full_name = f\"Hello, {pip.get(job, 'first_name')} {pip.get(job, 'last_name')}!\"\n",
    "print(full_name)\n",
    "\n",
    "# Inspect the final, complete state of your job\n",
    "print(\"\\nFinal job state:\")\n",
    "print(pip.read(job))\n"
   ]
  },
  {
   "cell_type": "markdown",
   "id": "8",
   "metadata": {},
   "source": [
    "# flibbertigibbet"
   ]
  },
  {
   "cell_type": "code",
   "execution_count": null,
   "id": "9",
   "metadata": {},
   "outputs": [],
   "source": []
  }
 ],
 "metadata": {
  "kernelspec": {
   "display_name": "Python 3 (ipykernel)",
   "language": "python",
   "name": "python3"
  },
  "language_info": {
   "codemirror_mode": {
    "name": "ipython",
    "version": 3
   },
   "file_extension": ".py",
   "mimetype": "text/x-python",
   "name": "python",
   "nbconvert_exporter": "python",
   "pygments_lexer": "ipython3",
   "version": "3.12.11"
  }
 },
 "nbformat": 4,
 "nbformat_minor": 5
}
