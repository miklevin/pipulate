{
 "cells": [
  {
   "cell_type": "markdown",
   "id": "0",
   "metadata": {},
   "source": [
    "# Welcome to Persistent Notebooks\n",
    "\n",
    "Ever lose your work when a Jupyter kernel dies? Pipulate is the antidote. \n",
    "\n",
    "1. It brings the elegant power of **Unix pipes** to your notebook, but with a crucial difference: a built-in **safety net**. \n",
    "2. While a normal pipe's data vanishes when the job is done, Pipulate **persists the result of every single cell**.\n",
    "3. Give the job a new name, get a new pipe with memory."
   ]
  },
  {
   "cell_type": "code",
   "execution_count": null,
   "id": "1",
   "metadata": {},
   "outputs": [],
   "source": [
    "from pipulate import pip\n",
    "job = \"hello_ai\""
   ]
  },
  {
   "cell_type": "markdown",
   "id": "2",
   "metadata": {},
   "source": [
    "## pip.set()"
   ]
  },
  {
   "cell_type": "code",
   "execution_count": null,
   "id": "3",
   "metadata": {},
   "outputs": [],
   "source": [
    "first_name = \"Mike\"\n",
    "pip.set(job, step=\"first_name\", value=first_name)\n",
    "print(f\"✅ Wrote first name: {pip.get(job, 'first_name')}\")"
   ]
  },
  {
   "cell_type": "markdown",
   "id": "4",
   "metadata": {},
   "source": [
    "### ⚙️ Now, Restart the Kernel!\n",
    "**Press `Esc` then `0` `0` (zero-zero), or use the menu, to restart the kernel and test persistence.**\n",
    "\n",
    "## pip.get()"
   ]
  },
  {
   "cell_type": "code",
   "execution_count": null,
   "id": "5",
   "metadata": {},
   "outputs": [],
   "source": [
    "from pipulate import pip\n",
    "\n",
    "job = \"hello_ai\"\n",
    "retrieved_name = pip.get(job, step=\"first_name\")\n",
    "print(f\"✅ Retrieved after restart: {retrieved_name} agan, jiggity jig!\")\n",
    "last_name = \"Levin\"\n",
    "pip.set(job, step=\"last_name\", value=last_name)\n",
    "print(f\"✅ Wrote last name: {pip.get(job, 'last_name')}\")"
   ]
  },
  {
   "cell_type": "markdown",
   "id": "6",
   "metadata": {},
   "source": [
    "## ...and so on."
   ]
  },
  {
   "cell_type": "code",
   "execution_count": null,
   "id": "7",
   "metadata": {},
   "outputs": [],
   "source": [
    "from pipulate import pip\n",
    "\n",
    "job = \"hello_ai\"\n",
    "full_name = f\"Hello, {pip.get(job, 'first_name')} {pip.get(job, 'last_name')}!\"\n",
    "print(full_name)\n",
    "print(\"\\nFinal job state:\")\n",
    "print(pip.read(job))"
   ]
  },
  {
   "cell_type": "code",
   "execution_count": null,
   "id": "8",
   "metadata": {},
   "outputs": [],
   "source": []
  }
 ],
 "metadata": {
  "kernelspec": {
   "display_name": "Python 3 (ipykernel)",
   "language": "python",
   "name": "python3"
  },
  "language_info": {
   "codemirror_mode": {
    "name": "ipython",
    "version": 3
   },
   "file_extension": ".py",
   "mimetype": "text/x-python",
   "name": "python",
   "nbconvert_exporter": "python",
   "pygments_lexer": "ipython3",
   "version": "3.12.11"
  }
 },
 "nbformat": 4,
 "nbformat_minor": 5
}
