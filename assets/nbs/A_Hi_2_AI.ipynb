{
 "cells": [
  {
   "cell_type": "markdown",
   "id": "0",
   "metadata": {},
   "source": [
    "# Welcome to Persistent `pip`ulate Notebooks\n",
    "\n",
    "Ever lose your work? When Notebooks restart your workflow POOFS! Pipulate is the antidote. \n",
    "\n",
    "1. **Pip**ulate brings the elegant power of **Unix *`pip`*es** to your notebook, but with a built-in **safety net**. \n",
    "2. Where **pip**ed data vanishes after every run, Pipulate **persists the result of every single cell**.\n",
    "3. Give the job a new name, get a new workflow memory pipeline!\n",
    "\n",
    "There is no *interruption of jobs.* There is only continue."
   ]
  },
  {
   "cell_type": "code",
   "execution_count": null,
   "id": "1",
   "metadata": {},
   "outputs": [],
   "source": [
    "from pipulate import pip\n",
    "job = \"hello_ai\"  # <-- Give the job a name"
   ]
  },
  {
   "cell_type": "markdown",
   "id": "2",
   "metadata": {},
   "source": [
    "## First you `pip.set()` it"
   ]
  },
  {
   "cell_type": "code",
   "execution_count": null,
   "id": "3",
   "metadata": {},
   "outputs": [],
   "source": [
    "first_name = \"Mike\"  # <-- Set First Name\n",
    "pip.set(job, step=\"first_name\", value=first_name)\n",
    "print(f\"✅ Wrote first name: {pip.get(job, 'first_name')}\")"
   ]
  },
  {
   "cell_type": "markdown",
   "id": "4",
   "metadata": {},
   "source": [
    "### ⚙️ Now, Restart the Kernel!\n",
    "**Press `Esc` then `0` `0` (zero-zero), or use the menu, to restart the kernel and test persistence.**\n",
    "\n",
    "### Then you `pip.get()` it"
   ]
  },
  {
   "cell_type": "code",
   "execution_count": null,
   "id": "5",
   "metadata": {},
   "outputs": [],
   "source": [
    "from pipulate import pip\n",
    "\n",
    "job = \"hello_ai\"  # <-- Make sure it's the same name\n",
    "retrieved_name = pip.get(job, step=\"first_name\")\n",
    "print(f\"✅ Retrieved after restart: {retrieved_name} agan, jiggity jig!\")\n",
    "last_name = \"Levin\"  # <-- Set Last Name\n",
    "pip.set(job, step=\"last_name\", value=last_name)\n",
    "print(f\"✅ Wrote last name: {pip.get(job, 'last_name')}\")"
   ]
  },
  {
   "cell_type": "markdown",
   "id": "6",
   "metadata": {},
   "source": [
    "#### ...and you'll never forget it!\n",
    "\n",
    "Now let's say Hi to an AI. You'll need to [Get an API key](https://aistudio.google.com/)"
   ]
  },
  {
   "cell_type": "code",
   "execution_count": null,
   "id": "7",
   "metadata": {},
   "outputs": [],
   "source": [
    "pip.api_key(job, key=None)  # <-- Replace None with key or enter it when prompted."
   ]
  },
  {
   "cell_type": "code",
   "execution_count": null,
   "id": "8",
   "metadata": {},
   "outputs": [],
   "source": [
    "# In the final cell of A_Hi_2_AI.ipynb\n",
    "\n",
    "from pipulate import pip\n",
    "job = \"hello_ai\"\n",
    "\n",
    "# 1. Construct a fun prompt using the data that persisted across kernel restarts\n",
    "first_name = pip.get(job, 'first_name')\n",
    "last_name = pip.get(job, 'last_name')\n",
    "prompt = f\"Write a short, one-sentence, upbeat tagline for a fictional adventure company run by {first_name} {last_name}. You must include both {first_name} and {last_name}.\"\n",
    "\n",
    "print(f\"💬 Sending the following prompt to the AI:\\n   '{prompt}'\")\n",
    "\n",
    "# 2. Call the new pip.prompt() method\n",
    "response = pip.prompt(prompt)\n",
    "\n",
    "# 3. Print the AI's creative response!\n",
    "print(\"\\n--- AI Response ---\")\n",
    "print(response)\n",
    "print(\"-------------------\")"
   ]
  },
  {
   "cell_type": "code",
   "execution_count": null,
   "id": "9",
   "metadata": {},
   "outputs": [],
   "source": []
  }
 ],
 "metadata": {
  "kernelspec": {
   "display_name": "Python 3 (ipykernel)",
   "language": "python",
   "name": "python3"
  },
  "language_info": {
   "codemirror_mode": {
    "name": "ipython",
    "version": 3
   },
   "file_extension": ".py",
   "mimetype": "text/x-python",
   "name": "python",
   "nbconvert_exporter": "python",
   "pygments_lexer": "ipython3",
   "version": "3.12.11"
  }
 },
 "nbformat": 4,
 "nbformat_minor": 5
}
