{
 "cells": [
  {
   "cell_type": "markdown",
   "id": "0",
   "metadata": {},
   "source": [
    "# AI Hello World! 👋\n",
    "\n",
    "1. Become an AIE (**A.I.** **E**ducator).\n",
    "2. Learn Python ***Workflows*** in Notebooks.\n",
    "3. Give the job a new name. Run cells. Say Hi to AI.\n",
    "\n",
    "### Hit `Enter` in each cell or the ▶ button above to continue."
   ]
  },
  {
   "cell_type": "code",
   "execution_count": null,
   "id": "1",
   "metadata": {},
   "outputs": [],
   "source": [
    "\"Hello, World!\"  # Learn Hello World program in Python."
   ]
  },
  {
   "cell_type": "code",
   "execution_count": null,
   "id": "2",
   "metadata": {},
   "outputs": [],
   "source": [
    "from pipulate import pip  # Pipeline memory\n",
    "job = \"hello_ai-01\"       # Give the job a name."
   ]
  },
  {
   "cell_type": "markdown",
   "id": "3",
   "metadata": {},
   "source": [
    "# Set it."
   ]
  },
  {
   "cell_type": "code",
   "execution_count": null,
   "id": "4",
   "metadata": {},
   "outputs": [],
   "source": [
    "first_name = \"Mike\"  # Set First Name\n",
    "\n",
    "pip.set(job, step=\"first_name\", value=first_name)\n",
    "print(f\"✅ You set first name to: {pip.get(job, 'first_name')}\")  # Use pipeline memory"
   ]
  },
  {
   "cell_type": "markdown",
   "id": "5",
   "metadata": {},
   "source": [
    "### ⚙️ Now, Restart the Kernel!\n",
    "**Press `Esc` then `0` `0` (zero-zero), or use the menu, to restart the kernel and test persistence.**\n",
    "\n",
    "# Get It."
   ]
  },
  {
   "cell_type": "code",
   "execution_count": null,
   "id": "6",
   "metadata": {},
   "outputs": [],
   "source": [
    "from pipulate import pip\n",
    "\n",
    "job = \"hello_ai-01\"  # Recall job name.\n",
    "\n",
    "first_name = pip.get(job, step=\"first_name\")  # Get field-data from job.\n",
    "print(f\"✅ Get saved first_name: {first_name}!\")\n",
    "\n",
    "last_name = \"Levin\"\n",
    "\n",
    "pip.set(job, step=\"last_name\", value=last_name)  # Set more data.\n",
    "print(f\"✅ Set last_name: {pip.get(job, 'last_name')}\")\n",
    "\n",
    "message = f\"\\nCongratulations, {first_name} {last_name}! You did well.\"  # F-String template.\n",
    "print(message)"
   ]
  },
  {
   "cell_type": "markdown",
   "id": "7",
   "metadata": {},
   "source": [
    "### 🔑 Step 2: Configure Your API Key\n",
    "\n",
    "This step connects the Notebook to your [Google AI API key](https://aistudio.google.com/) <--click to get one!\n",
    "\n",
    "* **To be prompted securely:** Just run the code cell below (with `key=None`).\n",
    "* **To hardcode your key:** Replace `None` with your key in quotes, like `key=\"YOUR_API_KEY...\"`.\n",
    "\n",
    "The code will validate your key. If it's invalid, it will re-prompt you."
   ]
  },
  {
   "cell_type": "code",
   "execution_count": null,
   "id": "8",
   "metadata": {},
   "outputs": [],
   "source": [
    "# This will check for a stored key, or prompt you if one isn't found.\n",
    "if not pip.api_key(job, key=None):\n",
    "    # If api_key returns False (invalid key or user cancelled), stop the notebook\n",
    "    raise Exception(\"API Key setup failed or was cancelled. Please provide a valid key and re-run.\")\n",
    "\n",
    "# If we get here, the key is valid and configured.\n",
    "print(\"\\n✅ API Key validated. Proceeding with the rest of the notebook...\")"
   ]
  },
  {
   "cell_type": "code",
   "execution_count": null,
   "id": "9",
   "metadata": {},
   "outputs": [],
   "source": [
    "from pipulate import pip\n",
    "from IPython.display import Markdown, display\n",
    "\n",
    "job = \"hello_ai-01\"  # Use same job name again.\n",
    "\n",
    "first_name = pip.get(job, 'first_name')  # Get data from job.\n",
    "last_name = pip.get(job, 'last_name')\n",
    "\n",
    "# Create a prompt\n",
    "prompt = f'''Hello Gemini! Please introduce yourself to {first_name} {last_name}, using their full name.\n",
    "After your introduction, please clearly explain these four concepts to them:\n",
    "1.  **Multi-line Strings**: How Python uses triple quotes (`\"\"\"` or `\\'\\'\\'`) to create strings that span multiple lines.\n",
    "2.  **f-strings**: What f-strings are and how they use curly braces (`{{}}`) to easily insert variables into text.\n",
    "3.  **Combining Them**: How f-strings and triple-quoted strings work together to create powerful, easy-to-read templates (like for AI prompts).\n",
    "4.  **Quote Interchangeability**: How single (`'`) and double (`\"`) quotes are interchangeable and can be used inside one another (like `\"it's\"` or `'He said \"hi\"'`).\n",
    "'''\n",
    "\n",
    "response = pip.prompt(prompt)  # Send prompt.\n",
    "display(Markdown(response))  # Show response."
   ]
  },
  {
   "cell_type": "code",
   "execution_count": null,
   "id": "10",
   "metadata": {},
   "outputs": [],
   "source": []
  }
 ],
 "metadata": {
  "kernelspec": {
   "display_name": "Python 3 (ipykernel)",
   "language": "python",
   "name": "python3"
  },
  "language_info": {
   "codemirror_mode": {
    "name": "ipython",
    "version": 3
   },
   "file_extension": ".py",
   "mimetype": "text/x-python",
   "name": "python",
   "nbconvert_exporter": "python",
   "pygments_lexer": "ipython3",
   "version": "3.12.11"
  }
 },
 "nbformat": 4,
 "nbformat_minor": 5
}
